{
 "cells": [
  {
   "cell_type": "code",
   "execution_count": 1,
   "id": "6c260ee1",
   "metadata": {
    "executionInfo": {
     "elapsed": 580,
     "status": "ok",
     "timestamp": 1638997123745,
     "user": {
      "displayName": "Abdülkadir Gökce",
      "photoUrl": "https://lh3.googleusercontent.com/a-/AOh14Gg5CjAMc_vqOoE4ZGAxSTHOyo-Ek9COcRFalE6u=s64",
      "userId": "15289344188975879187"
     },
     "user_tz": -60
    },
    "id": "6c260ee1"
   },
   "outputs": [],
   "source": [
    "import os\n",
    "import time\n",
    "import numpy as np\n",
    "import pandas as pd\n",
    "import matplotlib.pyplot as plt\n",
    "import seaborn as sns\n",
    "import pickle\n",
    "import json\n",
    "from kmodes.kprototypes import KPrototypes\n",
    "from sklearn.mixture import GaussianMixture"
   ]
  },
  {
   "cell_type": "code",
   "execution_count": 2,
   "id": "UVzE1d4Eg08X",
   "metadata": {
    "id": "UVzE1d4Eg08X"
   },
   "outputs": [],
   "source": [
    "#from google.colab import drive\n",
    "#drive.mount('/content/gdrive')"
   ]
  },
  {
   "cell_type": "code",
   "execution_count": 3,
   "id": "Zpyn1j2AhHy1",
   "metadata": {
    "colab": {
     "base_uri": "https://localhost:8080/"
    },
    "executionInfo": {
     "elapsed": 10,
     "status": "ok",
     "timestamp": 1638867862889,
     "user": {
      "displayName": "Abdülkadir Gökce",
      "photoUrl": "https://lh3.googleusercontent.com/a-/AOh14Gg5CjAMc_vqOoE4ZGAxSTHOyo-Ek9COcRFalE6u=s64",
      "userId": "15289344188975879187"
     },
     "user_tz": -60
    },
    "id": "Zpyn1j2AhHy1",
    "outputId": "5a0ddbac-9e09-467f-8be0-da0e507ab187"
   },
   "outputs": [],
   "source": [
    "#!cd 'gdrive/MyDrive/Colab Notebooks/MSFeCare'"
   ]
  },
  {
   "cell_type": "code",
   "execution_count": 4,
   "id": "25dcfbae",
   "metadata": {
    "colab": {
     "base_uri": "https://localhost:8080/"
    },
    "executionInfo": {
     "elapsed": 346,
     "status": "ok",
     "timestamp": 1638867863230,
     "user": {
      "displayName": "Abdülkadir Gökce",
      "photoUrl": "https://lh3.googleusercontent.com/a-/AOh14Gg5CjAMc_vqOoE4ZGAxSTHOyo-Ek9COcRFalE6u=s64",
      "userId": "15289344188975879187"
     },
     "user_tz": -60
    },
    "id": "25dcfbae",
    "outputId": "b64364c0-0bff-47bb-abd0-f97223e7e18b"
   },
   "outputs": [
    {
     "name": "stdout",
     "output_type": "stream",
     "text": [
      "clean_data.csv                          metadata_patient.json\r\n",
      "cluster_points.csv                      metadata_patient_pred.json\r\n",
      "clustered_data.csv                      \u001b[31mml-dataset-datadictionary_20211001.xlsx\u001b[m\u001b[m\r\n",
      "clustering_model.pkl                    model_kp.pkl\r\n",
      "\u001b[31mdatadictionary-workinprogress.xlsx\u001b[m\u001b[m      patient_data.csv\r\n",
      "\u001b[31mfull-310k - Copy xl.xlsx\u001b[m\u001b[m                patient_pred_data.csv\r\n",
      "\u001b[31mfull-310k - Copy.csv\u001b[m\u001b[m                    processed_data.csv\r\n",
      "gps_coordinates.json                    ~$full-310k - Copy xl.xlsx\r\n",
      "metadata.json\r\n"
     ]
    }
   ],
   "source": [
    "data_dir = '/Users/abdulkadirgokce/Documents/MSFeCare/MSF-eCARE-filedrop'\n",
    "\n",
    "!ls $data_dir"
   ]
  },
  {
   "cell_type": "code",
   "execution_count": 5,
   "id": "098c84fc",
   "metadata": {
    "colab": {
     "base_uri": "https://localhost:8080/",
     "height": 444
    },
    "executionInfo": {
     "elapsed": 4802,
     "status": "ok",
     "timestamp": 1638867868027,
     "user": {
      "displayName": "Abdülkadir Gökce",
      "photoUrl": "https://lh3.googleusercontent.com/a-/AOh14Gg5CjAMc_vqOoE4ZGAxSTHOyo-Ek9COcRFalE6u=s64",
      "userId": "15289344188975879187"
     },
     "user_tz": -60
    },
    "id": "098c84fc",
    "outputId": "df4ecb0e-7cee-4965-8754-965f0c5c16c3"
   },
   "outputs": [
    {
     "data": {
      "text/html": [
       "<div>\n",
       "<style scoped>\n",
       "    .dataframe tbody tr th:only-of-type {\n",
       "        vertical-align: middle;\n",
       "    }\n",
       "\n",
       "    .dataframe tbody tr th {\n",
       "        vertical-align: top;\n",
       "    }\n",
       "\n",
       "    .dataframe thead th {\n",
       "        text-align: right;\n",
       "    }\n",
       "</style>\n",
       "<table border=\"1\" class=\"dataframe\">\n",
       "  <thead>\n",
       "    <tr style=\"text-align: right;\">\n",
       "      <th></th>\n",
       "      <th>country</th>\n",
       "      <th>hf_town</th>\n",
       "      <th>latitude</th>\n",
       "      <th>longitude</th>\n",
       "      <th>week</th>\n",
       "      <th>month</th>\n",
       "      <th>year</th>\n",
       "      <th>datetime</th>\n",
       "      <th>a_age</th>\n",
       "      <th>neuro_any</th>\n",
       "      <th>...</th>\n",
       "      <th>lab_malaria_pos</th>\n",
       "      <th>mouth_trush</th>\n",
       "      <th>s_oedema</th>\n",
       "      <th>s_pallor</th>\n",
       "      <th>s_drepano</th>\n",
       "      <th>s_throat</th>\n",
       "      <th>s_mouthpb</th>\n",
       "      <th>s_joint</th>\n",
       "      <th>sam_u6add_ocp</th>\n",
       "      <th>wfa_less_than_neg3sd</th>\n",
       "    </tr>\n",
       "  </thead>\n",
       "  <tbody>\n",
       "    <tr>\n",
       "      <th>0</th>\n",
       "      <td>RCA</td>\n",
       "      <td>Batangafo</td>\n",
       "      <td>7.303983</td>\n",
       "      <td>18.291091</td>\n",
       "      <td>7</td>\n",
       "      <td>2</td>\n",
       "      <td>2017</td>\n",
       "      <td>2017-02-15 12:11:47</td>\n",
       "      <td>-0.222066</td>\n",
       "      <td>0.0</td>\n",
       "      <td>...</td>\n",
       "      <td>1.0</td>\n",
       "      <td>0.0</td>\n",
       "      <td>0.0</td>\n",
       "      <td>0.0</td>\n",
       "      <td>0.0</td>\n",
       "      <td>0.0</td>\n",
       "      <td>0.0</td>\n",
       "      <td>0.0</td>\n",
       "      <td>0.0</td>\n",
       "      <td>0.0</td>\n",
       "    </tr>\n",
       "    <tr>\n",
       "      <th>1</th>\n",
       "      <td>RCA</td>\n",
       "      <td>Batangafo</td>\n",
       "      <td>7.303983</td>\n",
       "      <td>18.291091</td>\n",
       "      <td>1</td>\n",
       "      <td>1</td>\n",
       "      <td>2017</td>\n",
       "      <td>2017-01-05 12:39:43</td>\n",
       "      <td>-0.635496</td>\n",
       "      <td>0.0</td>\n",
       "      <td>...</td>\n",
       "      <td>1.0</td>\n",
       "      <td>0.0</td>\n",
       "      <td>0.0</td>\n",
       "      <td>0.0</td>\n",
       "      <td>0.0</td>\n",
       "      <td>0.0</td>\n",
       "      <td>0.0</td>\n",
       "      <td>0.0</td>\n",
       "      <td>0.0</td>\n",
       "      <td>0.0</td>\n",
       "    </tr>\n",
       "    <tr>\n",
       "      <th>2</th>\n",
       "      <td>RCA</td>\n",
       "      <td>Kambakota</td>\n",
       "      <td>7.157017</td>\n",
       "      <td>17.872181</td>\n",
       "      <td>33</td>\n",
       "      <td>8</td>\n",
       "      <td>2017</td>\n",
       "      <td>2017-08-16 10:05:44</td>\n",
       "      <td>-0.635496</td>\n",
       "      <td>0.0</td>\n",
       "      <td>...</td>\n",
       "      <td>0.0</td>\n",
       "      <td>0.0</td>\n",
       "      <td>0.0</td>\n",
       "      <td>0.0</td>\n",
       "      <td>0.0</td>\n",
       "      <td>0.0</td>\n",
       "      <td>0.0</td>\n",
       "      <td>0.0</td>\n",
       "      <td>0.0</td>\n",
       "      <td>0.0</td>\n",
       "    </tr>\n",
       "    <tr>\n",
       "      <th>3</th>\n",
       "      <td>RCA</td>\n",
       "      <td>Batangafo</td>\n",
       "      <td>7.303983</td>\n",
       "      <td>18.291091</td>\n",
       "      <td>17</td>\n",
       "      <td>4</td>\n",
       "      <td>2017</td>\n",
       "      <td>2017-04-28 19:19:26</td>\n",
       "      <td>-0.635496</td>\n",
       "      <td>0.0</td>\n",
       "      <td>...</td>\n",
       "      <td>1.0</td>\n",
       "      <td>0.0</td>\n",
       "      <td>0.0</td>\n",
       "      <td>0.0</td>\n",
       "      <td>0.0</td>\n",
       "      <td>0.0</td>\n",
       "      <td>0.0</td>\n",
       "      <td>0.0</td>\n",
       "      <td>0.0</td>\n",
       "      <td>0.0</td>\n",
       "    </tr>\n",
       "    <tr>\n",
       "      <th>4</th>\n",
       "      <td>RCA</td>\n",
       "      <td>Batangafo</td>\n",
       "      <td>7.303983</td>\n",
       "      <td>18.291091</td>\n",
       "      <td>48</td>\n",
       "      <td>12</td>\n",
       "      <td>2016</td>\n",
       "      <td>2016-12-02 10:22:03</td>\n",
       "      <td>-1.324546</td>\n",
       "      <td>0.0</td>\n",
       "      <td>...</td>\n",
       "      <td>0.0</td>\n",
       "      <td>0.0</td>\n",
       "      <td>0.0</td>\n",
       "      <td>0.0</td>\n",
       "      <td>0.0</td>\n",
       "      <td>0.0</td>\n",
       "      <td>0.0</td>\n",
       "      <td>0.0</td>\n",
       "      <td>0.0</td>\n",
       "      <td>0.0</td>\n",
       "    </tr>\n",
       "    <tr>\n",
       "      <th>...</th>\n",
       "      <td>...</td>\n",
       "      <td>...</td>\n",
       "      <td>...</td>\n",
       "      <td>...</td>\n",
       "      <td>...</td>\n",
       "      <td>...</td>\n",
       "      <td>...</td>\n",
       "      <td>...</td>\n",
       "      <td>...</td>\n",
       "      <td>...</td>\n",
       "      <td>...</td>\n",
       "      <td>...</td>\n",
       "      <td>...</td>\n",
       "      <td>...</td>\n",
       "      <td>...</td>\n",
       "      <td>...</td>\n",
       "      <td>...</td>\n",
       "      <td>...</td>\n",
       "      <td>...</td>\n",
       "      <td>...</td>\n",
       "      <td>...</td>\n",
       "    </tr>\n",
       "    <tr>\n",
       "      <th>310284</th>\n",
       "      <td>RCA</td>\n",
       "      <td>Kabo</td>\n",
       "      <td>7.692080</td>\n",
       "      <td>18.624342</td>\n",
       "      <td>11</td>\n",
       "      <td>3</td>\n",
       "      <td>2020</td>\n",
       "      <td>2020-03-12 09:55:48</td>\n",
       "      <td>1.087129</td>\n",
       "      <td>0.0</td>\n",
       "      <td>...</td>\n",
       "      <td>1.0</td>\n",
       "      <td>0.0</td>\n",
       "      <td>0.0</td>\n",
       "      <td>0.0</td>\n",
       "      <td>0.0</td>\n",
       "      <td>0.0</td>\n",
       "      <td>0.0</td>\n",
       "      <td>0.0</td>\n",
       "      <td>0.0</td>\n",
       "      <td>0.0</td>\n",
       "    </tr>\n",
       "    <tr>\n",
       "      <th>310285</th>\n",
       "      <td>RCA</td>\n",
       "      <td>Kabo</td>\n",
       "      <td>7.692080</td>\n",
       "      <td>18.624342</td>\n",
       "      <td>2</td>\n",
       "      <td>1</td>\n",
       "      <td>2020</td>\n",
       "      <td>2020-01-08 08:26:21</td>\n",
       "      <td>-1.117831</td>\n",
       "      <td>0.0</td>\n",
       "      <td>...</td>\n",
       "      <td>1.0</td>\n",
       "      <td>0.0</td>\n",
       "      <td>0.0</td>\n",
       "      <td>0.0</td>\n",
       "      <td>0.0</td>\n",
       "      <td>0.0</td>\n",
       "      <td>0.0</td>\n",
       "      <td>0.0</td>\n",
       "      <td>0.0</td>\n",
       "      <td>0.0</td>\n",
       "    </tr>\n",
       "    <tr>\n",
       "      <th>310286</th>\n",
       "      <td>RCA</td>\n",
       "      <td>Kabo</td>\n",
       "      <td>7.692080</td>\n",
       "      <td>18.624342</td>\n",
       "      <td>14</td>\n",
       "      <td>4</td>\n",
       "      <td>2020</td>\n",
       "      <td>2020-04-04 10:06:07</td>\n",
       "      <td>0.329174</td>\n",
       "      <td>0.0</td>\n",
       "      <td>...</td>\n",
       "      <td>0.0</td>\n",
       "      <td>0.0</td>\n",
       "      <td>0.0</td>\n",
       "      <td>0.0</td>\n",
       "      <td>0.0</td>\n",
       "      <td>0.0</td>\n",
       "      <td>0.0</td>\n",
       "      <td>0.0</td>\n",
       "      <td>0.0</td>\n",
       "      <td>0.0</td>\n",
       "    </tr>\n",
       "    <tr>\n",
       "      <th>310287</th>\n",
       "      <td>RCA</td>\n",
       "      <td>Kabo</td>\n",
       "      <td>7.692080</td>\n",
       "      <td>18.624342</td>\n",
       "      <td>29</td>\n",
       "      <td>7</td>\n",
       "      <td>2020</td>\n",
       "      <td>2020-07-16 14:42:21</td>\n",
       "      <td>-0.290971</td>\n",
       "      <td>0.0</td>\n",
       "      <td>...</td>\n",
       "      <td>1.0</td>\n",
       "      <td>0.0</td>\n",
       "      <td>0.0</td>\n",
       "      <td>0.0</td>\n",
       "      <td>0.0</td>\n",
       "      <td>0.0</td>\n",
       "      <td>0.0</td>\n",
       "      <td>0.0</td>\n",
       "      <td>0.0</td>\n",
       "      <td>0.0</td>\n",
       "    </tr>\n",
       "    <tr>\n",
       "      <th>310288</th>\n",
       "      <td>RCA</td>\n",
       "      <td>Kabo</td>\n",
       "      <td>7.692080</td>\n",
       "      <td>18.624342</td>\n",
       "      <td>27</td>\n",
       "      <td>6</td>\n",
       "      <td>2020</td>\n",
       "      <td>2020-06-30 09:18:21</td>\n",
       "      <td>-0.635496</td>\n",
       "      <td>0.0</td>\n",
       "      <td>...</td>\n",
       "      <td>1.0</td>\n",
       "      <td>0.0</td>\n",
       "      <td>0.0</td>\n",
       "      <td>0.0</td>\n",
       "      <td>0.0</td>\n",
       "      <td>0.0</td>\n",
       "      <td>0.0</td>\n",
       "      <td>0.0</td>\n",
       "      <td>0.0</td>\n",
       "      <td>0.0</td>\n",
       "    </tr>\n",
       "  </tbody>\n",
       "</table>\n",
       "<p>310289 rows × 33 columns</p>\n",
       "</div>"
      ],
      "text/plain": [
       "       country    hf_town  latitude  longitude  week  month  year  \\\n",
       "0          RCA  Batangafo  7.303983  18.291091     7      2  2017   \n",
       "1          RCA  Batangafo  7.303983  18.291091     1      1  2017   \n",
       "2          RCA  Kambakota  7.157017  17.872181    33      8  2017   \n",
       "3          RCA  Batangafo  7.303983  18.291091    17      4  2017   \n",
       "4          RCA  Batangafo  7.303983  18.291091    48     12  2016   \n",
       "...        ...        ...       ...        ...   ...    ...   ...   \n",
       "310284     RCA       Kabo  7.692080  18.624342    11      3  2020   \n",
       "310285     RCA       Kabo  7.692080  18.624342     2      1  2020   \n",
       "310286     RCA       Kabo  7.692080  18.624342    14      4  2020   \n",
       "310287     RCA       Kabo  7.692080  18.624342    29      7  2020   \n",
       "310288     RCA       Kabo  7.692080  18.624342    27      6  2020   \n",
       "\n",
       "                   datetime     a_age  neuro_any  ...  lab_malaria_pos  \\\n",
       "0       2017-02-15 12:11:47 -0.222066        0.0  ...              1.0   \n",
       "1       2017-01-05 12:39:43 -0.635496        0.0  ...              1.0   \n",
       "2       2017-08-16 10:05:44 -0.635496        0.0  ...              0.0   \n",
       "3       2017-04-28 19:19:26 -0.635496        0.0  ...              1.0   \n",
       "4       2016-12-02 10:22:03 -1.324546        0.0  ...              0.0   \n",
       "...                     ...       ...        ...  ...              ...   \n",
       "310284  2020-03-12 09:55:48  1.087129        0.0  ...              1.0   \n",
       "310285  2020-01-08 08:26:21 -1.117831        0.0  ...              1.0   \n",
       "310286  2020-04-04 10:06:07  0.329174        0.0  ...              0.0   \n",
       "310287  2020-07-16 14:42:21 -0.290971        0.0  ...              1.0   \n",
       "310288  2020-06-30 09:18:21 -0.635496        0.0  ...              1.0   \n",
       "\n",
       "        mouth_trush  s_oedema  s_pallor  s_drepano  s_throat  s_mouthpb  \\\n",
       "0               0.0       0.0       0.0        0.0       0.0        0.0   \n",
       "1               0.0       0.0       0.0        0.0       0.0        0.0   \n",
       "2               0.0       0.0       0.0        0.0       0.0        0.0   \n",
       "3               0.0       0.0       0.0        0.0       0.0        0.0   \n",
       "4               0.0       0.0       0.0        0.0       0.0        0.0   \n",
       "...             ...       ...       ...        ...       ...        ...   \n",
       "310284          0.0       0.0       0.0        0.0       0.0        0.0   \n",
       "310285          0.0       0.0       0.0        0.0       0.0        0.0   \n",
       "310286          0.0       0.0       0.0        0.0       0.0        0.0   \n",
       "310287          0.0       0.0       0.0        0.0       0.0        0.0   \n",
       "310288          0.0       0.0       0.0        0.0       0.0        0.0   \n",
       "\n",
       "        s_joint  sam_u6add_ocp  wfa_less_than_neg3sd  \n",
       "0           0.0            0.0                   0.0  \n",
       "1           0.0            0.0                   0.0  \n",
       "2           0.0            0.0                   0.0  \n",
       "3           0.0            0.0                   0.0  \n",
       "4           0.0            0.0                   0.0  \n",
       "...         ...            ...                   ...  \n",
       "310284      0.0            0.0                   0.0  \n",
       "310285      0.0            0.0                   0.0  \n",
       "310286      0.0            0.0                   0.0  \n",
       "310287      0.0            0.0                   0.0  \n",
       "310288      0.0            0.0                   0.0  \n",
       "\n",
       "[310289 rows x 33 columns]"
      ]
     },
     "execution_count": 5,
     "metadata": {},
     "output_type": "execute_result"
    }
   ],
   "source": [
    "filename = 'patient_data.csv'\n",
    "file_dir = os.path.join(data_dir, filename)\n",
    "df = pd.read_csv(file_dir)\n",
    "df"
   ]
  },
  {
   "cell_type": "code",
   "execution_count": null,
   "id": "3e8a8d11",
   "metadata": {},
   "outputs": [],
   "source": []
  },
  {
   "cell_type": "code",
   "execution_count": 6,
   "id": "73b9b433",
   "metadata": {
    "colab": {
     "base_uri": "https://localhost:8080/"
    },
    "executionInfo": {
     "elapsed": 19,
     "status": "ok",
     "timestamp": 1638867868028,
     "user": {
      "displayName": "Abdülkadir Gökce",
      "photoUrl": "https://lh3.googleusercontent.com/a-/AOh14Gg5CjAMc_vqOoE4ZGAxSTHOyo-Ek9COcRFalE6u=s64",
      "userId": "15289344188975879187"
     },
     "user_tz": -60
    },
    "id": "73b9b433",
    "outputId": "7bf0d1cc-b784-447f-ddad-0a2fb9f77821",
    "scrolled": true
   },
   "outputs": [
    {
     "name": "stdout",
     "output_type": "stream",
     "text": [
      "<class 'pandas.core.frame.DataFrame'>\n",
      "RangeIndex: 310289 entries, 0 to 310288\n",
      "Data columns (total 33 columns):\n",
      " #   Column                Non-Null Count   Dtype  \n",
      "---  ------                --------------   -----  \n",
      " 0   country               310289 non-null  object \n",
      " 1   hf_town               310289 non-null  object \n",
      " 2   latitude              310289 non-null  float64\n",
      " 3   longitude             310289 non-null  float64\n",
      " 4   week                  310289 non-null  int64  \n",
      " 5   month                 310289 non-null  int64  \n",
      " 6   year                  310289 non-null  int64  \n",
      " 7   datetime              310289 non-null  object \n",
      " 8   a_age                 310289 non-null  float64\n",
      " 9   neuro_any             310289 non-null  float64\n",
      " 10  muac_low              310289 non-null  float64\n",
      " 11  s_measles             310289 non-null  float64\n",
      " 12  nonspecific           310289 non-null  float64\n",
      " 13  resp_any              310289 non-null  float64\n",
      " 14  abdo_any              310289 non-null  float64\n",
      " 15  ear_any               310289 non-null  float64\n",
      " 16  eye_sympt             310289 non-null  float64\n",
      " 17  skin_any              310289 non-null  float64\n",
      " 18  urine_signs           310289 non-null  float64\n",
      " 19  hb_low                310289 non-null  float64\n",
      " 20  anaphyl_confirmed     310289 non-null  float64\n",
      " 21  danger_sign_jaundice  310289 non-null  float64\n",
      " 22  fever_prolonged       310289 non-null  float64\n",
      " 23  lab_malaria_pos       310289 non-null  float64\n",
      " 24  mouth_trush           310289 non-null  float64\n",
      " 25  s_oedema              310289 non-null  float64\n",
      " 26  s_pallor              310289 non-null  float64\n",
      " 27  s_drepano             310289 non-null  float64\n",
      " 28  s_throat              310289 non-null  float64\n",
      " 29  s_mouthpb             310289 non-null  float64\n",
      " 30  s_joint               310289 non-null  float64\n",
      " 31  sam_u6add_ocp         310289 non-null  float64\n",
      " 32  wfa_less_than_neg3sd  310289 non-null  float64\n",
      "dtypes: float64(27), int64(3), object(3)\n",
      "memory usage: 78.1+ MB\n"
     ]
    }
   ],
   "source": [
    "df.info(True)"
   ]
  },
  {
   "cell_type": "code",
   "execution_count": 7,
   "id": "3cbaa746",
   "metadata": {
    "id": "3cbaa746"
   },
   "outputs": [],
   "source": [
    "with open(os.path.join(data_dir, 'metadata_patient.json'), 'r') as file:\n",
    "    metadata = json.load(file)\n",
    "    \n",
    "categorical_feature_indices = [df.columns.get_loc(c) for c in metadata['categorical_features']]"
   ]
  },
  {
   "cell_type": "code",
   "execution_count": 8,
   "id": "9ad45910",
   "metadata": {},
   "outputs": [
    {
     "data": {
      "text/html": [
       "<div>\n",
       "<style scoped>\n",
       "    .dataframe tbody tr th:only-of-type {\n",
       "        vertical-align: middle;\n",
       "    }\n",
       "\n",
       "    .dataframe tbody tr th {\n",
       "        vertical-align: top;\n",
       "    }\n",
       "\n",
       "    .dataframe thead th {\n",
       "        text-align: right;\n",
       "    }\n",
       "</style>\n",
       "<table border=\"1\" class=\"dataframe\">\n",
       "  <thead>\n",
       "    <tr style=\"text-align: right;\">\n",
       "      <th></th>\n",
       "      <th>a_age</th>\n",
       "      <th>neuro_any</th>\n",
       "      <th>muac_low</th>\n",
       "      <th>s_measles</th>\n",
       "      <th>nonspecific</th>\n",
       "      <th>resp_any</th>\n",
       "      <th>abdo_any</th>\n",
       "      <th>ear_any</th>\n",
       "      <th>eye_sympt</th>\n",
       "      <th>skin_any</th>\n",
       "      <th>...</th>\n",
       "      <th>lab_malaria_pos</th>\n",
       "      <th>mouth_trush</th>\n",
       "      <th>s_oedema</th>\n",
       "      <th>s_pallor</th>\n",
       "      <th>s_drepano</th>\n",
       "      <th>s_throat</th>\n",
       "      <th>s_mouthpb</th>\n",
       "      <th>s_joint</th>\n",
       "      <th>sam_u6add_ocp</th>\n",
       "      <th>wfa_less_than_neg3sd</th>\n",
       "    </tr>\n",
       "  </thead>\n",
       "  <tbody>\n",
       "    <tr>\n",
       "      <th>0</th>\n",
       "      <td>-0.222066</td>\n",
       "      <td>0.0</td>\n",
       "      <td>0.0</td>\n",
       "      <td>0.0</td>\n",
       "      <td>0.0</td>\n",
       "      <td>1.0</td>\n",
       "      <td>1.0</td>\n",
       "      <td>0.0</td>\n",
       "      <td>0.0</td>\n",
       "      <td>0.0</td>\n",
       "      <td>...</td>\n",
       "      <td>1.0</td>\n",
       "      <td>0.0</td>\n",
       "      <td>0.0</td>\n",
       "      <td>0.0</td>\n",
       "      <td>0.0</td>\n",
       "      <td>0.0</td>\n",
       "      <td>0.0</td>\n",
       "      <td>0.0</td>\n",
       "      <td>0.0</td>\n",
       "      <td>0.0</td>\n",
       "    </tr>\n",
       "    <tr>\n",
       "      <th>1</th>\n",
       "      <td>-0.635496</td>\n",
       "      <td>0.0</td>\n",
       "      <td>0.0</td>\n",
       "      <td>0.0</td>\n",
       "      <td>0.0</td>\n",
       "      <td>0.0</td>\n",
       "      <td>0.0</td>\n",
       "      <td>0.0</td>\n",
       "      <td>0.0</td>\n",
       "      <td>0.0</td>\n",
       "      <td>...</td>\n",
       "      <td>1.0</td>\n",
       "      <td>0.0</td>\n",
       "      <td>0.0</td>\n",
       "      <td>0.0</td>\n",
       "      <td>0.0</td>\n",
       "      <td>0.0</td>\n",
       "      <td>0.0</td>\n",
       "      <td>0.0</td>\n",
       "      <td>0.0</td>\n",
       "      <td>0.0</td>\n",
       "    </tr>\n",
       "    <tr>\n",
       "      <th>2</th>\n",
       "      <td>-0.635496</td>\n",
       "      <td>0.0</td>\n",
       "      <td>0.0</td>\n",
       "      <td>0.0</td>\n",
       "      <td>0.0</td>\n",
       "      <td>0.0</td>\n",
       "      <td>1.0</td>\n",
       "      <td>0.0</td>\n",
       "      <td>0.0</td>\n",
       "      <td>0.0</td>\n",
       "      <td>...</td>\n",
       "      <td>0.0</td>\n",
       "      <td>0.0</td>\n",
       "      <td>0.0</td>\n",
       "      <td>0.0</td>\n",
       "      <td>0.0</td>\n",
       "      <td>0.0</td>\n",
       "      <td>0.0</td>\n",
       "      <td>0.0</td>\n",
       "      <td>0.0</td>\n",
       "      <td>0.0</td>\n",
       "    </tr>\n",
       "    <tr>\n",
       "      <th>3</th>\n",
       "      <td>-0.635496</td>\n",
       "      <td>0.0</td>\n",
       "      <td>0.0</td>\n",
       "      <td>0.0</td>\n",
       "      <td>0.0</td>\n",
       "      <td>0.0</td>\n",
       "      <td>0.0</td>\n",
       "      <td>0.0</td>\n",
       "      <td>0.0</td>\n",
       "      <td>0.0</td>\n",
       "      <td>...</td>\n",
       "      <td>1.0</td>\n",
       "      <td>0.0</td>\n",
       "      <td>0.0</td>\n",
       "      <td>0.0</td>\n",
       "      <td>0.0</td>\n",
       "      <td>0.0</td>\n",
       "      <td>0.0</td>\n",
       "      <td>0.0</td>\n",
       "      <td>0.0</td>\n",
       "      <td>0.0</td>\n",
       "    </tr>\n",
       "    <tr>\n",
       "      <th>4</th>\n",
       "      <td>-1.324546</td>\n",
       "      <td>0.0</td>\n",
       "      <td>0.0</td>\n",
       "      <td>0.0</td>\n",
       "      <td>0.0</td>\n",
       "      <td>1.0</td>\n",
       "      <td>0.0</td>\n",
       "      <td>0.0</td>\n",
       "      <td>0.0</td>\n",
       "      <td>0.0</td>\n",
       "      <td>...</td>\n",
       "      <td>0.0</td>\n",
       "      <td>0.0</td>\n",
       "      <td>0.0</td>\n",
       "      <td>0.0</td>\n",
       "      <td>0.0</td>\n",
       "      <td>0.0</td>\n",
       "      <td>0.0</td>\n",
       "      <td>0.0</td>\n",
       "      <td>0.0</td>\n",
       "      <td>0.0</td>\n",
       "    </tr>\n",
       "    <tr>\n",
       "      <th>...</th>\n",
       "      <td>...</td>\n",
       "      <td>...</td>\n",
       "      <td>...</td>\n",
       "      <td>...</td>\n",
       "      <td>...</td>\n",
       "      <td>...</td>\n",
       "      <td>...</td>\n",
       "      <td>...</td>\n",
       "      <td>...</td>\n",
       "      <td>...</td>\n",
       "      <td>...</td>\n",
       "      <td>...</td>\n",
       "      <td>...</td>\n",
       "      <td>...</td>\n",
       "      <td>...</td>\n",
       "      <td>...</td>\n",
       "      <td>...</td>\n",
       "      <td>...</td>\n",
       "      <td>...</td>\n",
       "      <td>...</td>\n",
       "      <td>...</td>\n",
       "    </tr>\n",
       "    <tr>\n",
       "      <th>310284</th>\n",
       "      <td>1.087129</td>\n",
       "      <td>0.0</td>\n",
       "      <td>0.0</td>\n",
       "      <td>0.0</td>\n",
       "      <td>0.0</td>\n",
       "      <td>1.0</td>\n",
       "      <td>0.0</td>\n",
       "      <td>0.0</td>\n",
       "      <td>0.0</td>\n",
       "      <td>1.0</td>\n",
       "      <td>...</td>\n",
       "      <td>1.0</td>\n",
       "      <td>0.0</td>\n",
       "      <td>0.0</td>\n",
       "      <td>0.0</td>\n",
       "      <td>0.0</td>\n",
       "      <td>0.0</td>\n",
       "      <td>0.0</td>\n",
       "      <td>0.0</td>\n",
       "      <td>0.0</td>\n",
       "      <td>0.0</td>\n",
       "    </tr>\n",
       "    <tr>\n",
       "      <th>310285</th>\n",
       "      <td>-1.117831</td>\n",
       "      <td>0.0</td>\n",
       "      <td>0.0</td>\n",
       "      <td>0.0</td>\n",
       "      <td>0.0</td>\n",
       "      <td>1.0</td>\n",
       "      <td>1.0</td>\n",
       "      <td>0.0</td>\n",
       "      <td>0.0</td>\n",
       "      <td>0.0</td>\n",
       "      <td>...</td>\n",
       "      <td>1.0</td>\n",
       "      <td>0.0</td>\n",
       "      <td>0.0</td>\n",
       "      <td>0.0</td>\n",
       "      <td>0.0</td>\n",
       "      <td>0.0</td>\n",
       "      <td>0.0</td>\n",
       "      <td>0.0</td>\n",
       "      <td>0.0</td>\n",
       "      <td>0.0</td>\n",
       "    </tr>\n",
       "    <tr>\n",
       "      <th>310286</th>\n",
       "      <td>0.329174</td>\n",
       "      <td>0.0</td>\n",
       "      <td>0.0</td>\n",
       "      <td>0.0</td>\n",
       "      <td>0.0</td>\n",
       "      <td>0.0</td>\n",
       "      <td>1.0</td>\n",
       "      <td>0.0</td>\n",
       "      <td>0.0</td>\n",
       "      <td>0.0</td>\n",
       "      <td>...</td>\n",
       "      <td>0.0</td>\n",
       "      <td>0.0</td>\n",
       "      <td>0.0</td>\n",
       "      <td>0.0</td>\n",
       "      <td>0.0</td>\n",
       "      <td>0.0</td>\n",
       "      <td>0.0</td>\n",
       "      <td>0.0</td>\n",
       "      <td>0.0</td>\n",
       "      <td>0.0</td>\n",
       "    </tr>\n",
       "    <tr>\n",
       "      <th>310287</th>\n",
       "      <td>-0.290971</td>\n",
       "      <td>0.0</td>\n",
       "      <td>0.0</td>\n",
       "      <td>0.0</td>\n",
       "      <td>0.0</td>\n",
       "      <td>0.0</td>\n",
       "      <td>0.0</td>\n",
       "      <td>0.0</td>\n",
       "      <td>0.0</td>\n",
       "      <td>0.0</td>\n",
       "      <td>...</td>\n",
       "      <td>1.0</td>\n",
       "      <td>0.0</td>\n",
       "      <td>0.0</td>\n",
       "      <td>0.0</td>\n",
       "      <td>0.0</td>\n",
       "      <td>0.0</td>\n",
       "      <td>0.0</td>\n",
       "      <td>0.0</td>\n",
       "      <td>0.0</td>\n",
       "      <td>0.0</td>\n",
       "    </tr>\n",
       "    <tr>\n",
       "      <th>310288</th>\n",
       "      <td>-0.635496</td>\n",
       "      <td>0.0</td>\n",
       "      <td>0.0</td>\n",
       "      <td>0.0</td>\n",
       "      <td>0.0</td>\n",
       "      <td>1.0</td>\n",
       "      <td>1.0</td>\n",
       "      <td>0.0</td>\n",
       "      <td>0.0</td>\n",
       "      <td>0.0</td>\n",
       "      <td>...</td>\n",
       "      <td>1.0</td>\n",
       "      <td>0.0</td>\n",
       "      <td>0.0</td>\n",
       "      <td>0.0</td>\n",
       "      <td>0.0</td>\n",
       "      <td>0.0</td>\n",
       "      <td>0.0</td>\n",
       "      <td>0.0</td>\n",
       "      <td>0.0</td>\n",
       "      <td>0.0</td>\n",
       "    </tr>\n",
       "  </tbody>\n",
       "</table>\n",
       "<p>310289 rows × 25 columns</p>\n",
       "</div>"
      ],
      "text/plain": [
       "           a_age  neuro_any  muac_low  s_measles  nonspecific  resp_any  \\\n",
       "0      -0.222066        0.0       0.0        0.0          0.0       1.0   \n",
       "1      -0.635496        0.0       0.0        0.0          0.0       0.0   \n",
       "2      -0.635496        0.0       0.0        0.0          0.0       0.0   \n",
       "3      -0.635496        0.0       0.0        0.0          0.0       0.0   \n",
       "4      -1.324546        0.0       0.0        0.0          0.0       1.0   \n",
       "...          ...        ...       ...        ...          ...       ...   \n",
       "310284  1.087129        0.0       0.0        0.0          0.0       1.0   \n",
       "310285 -1.117831        0.0       0.0        0.0          0.0       1.0   \n",
       "310286  0.329174        0.0       0.0        0.0          0.0       0.0   \n",
       "310287 -0.290971        0.0       0.0        0.0          0.0       0.0   \n",
       "310288 -0.635496        0.0       0.0        0.0          0.0       1.0   \n",
       "\n",
       "        abdo_any  ear_any  eye_sympt  skin_any  ...  lab_malaria_pos  \\\n",
       "0            1.0      0.0        0.0       0.0  ...              1.0   \n",
       "1            0.0      0.0        0.0       0.0  ...              1.0   \n",
       "2            1.0      0.0        0.0       0.0  ...              0.0   \n",
       "3            0.0      0.0        0.0       0.0  ...              1.0   \n",
       "4            0.0      0.0        0.0       0.0  ...              0.0   \n",
       "...          ...      ...        ...       ...  ...              ...   \n",
       "310284       0.0      0.0        0.0       1.0  ...              1.0   \n",
       "310285       1.0      0.0        0.0       0.0  ...              1.0   \n",
       "310286       1.0      0.0        0.0       0.0  ...              0.0   \n",
       "310287       0.0      0.0        0.0       0.0  ...              1.0   \n",
       "310288       1.0      0.0        0.0       0.0  ...              1.0   \n",
       "\n",
       "        mouth_trush  s_oedema  s_pallor  s_drepano  s_throat  s_mouthpb  \\\n",
       "0               0.0       0.0       0.0        0.0       0.0        0.0   \n",
       "1               0.0       0.0       0.0        0.0       0.0        0.0   \n",
       "2               0.0       0.0       0.0        0.0       0.0        0.0   \n",
       "3               0.0       0.0       0.0        0.0       0.0        0.0   \n",
       "4               0.0       0.0       0.0        0.0       0.0        0.0   \n",
       "...             ...       ...       ...        ...       ...        ...   \n",
       "310284          0.0       0.0       0.0        0.0       0.0        0.0   \n",
       "310285          0.0       0.0       0.0        0.0       0.0        0.0   \n",
       "310286          0.0       0.0       0.0        0.0       0.0        0.0   \n",
       "310287          0.0       0.0       0.0        0.0       0.0        0.0   \n",
       "310288          0.0       0.0       0.0        0.0       0.0        0.0   \n",
       "\n",
       "        s_joint  sam_u6add_ocp  wfa_less_than_neg3sd  \n",
       "0           0.0            0.0                   0.0  \n",
       "1           0.0            0.0                   0.0  \n",
       "2           0.0            0.0                   0.0  \n",
       "3           0.0            0.0                   0.0  \n",
       "4           0.0            0.0                   0.0  \n",
       "...         ...            ...                   ...  \n",
       "310284      0.0            0.0                   0.0  \n",
       "310285      0.0            0.0                   0.0  \n",
       "310286      0.0            0.0                   0.0  \n",
       "310287      0.0            0.0                   0.0  \n",
       "310288      0.0            0.0                   0.0  \n",
       "\n",
       "[310289 rows x 25 columns]"
      ]
     },
     "execution_count": 8,
     "metadata": {},
     "output_type": "execute_result"
    }
   ],
   "source": [
    "features_for_clustering = metadata['numerical_features'] + metadata['categorical_features']\n",
    "clustering_data = df[features_for_clustering].copy()\n",
    "categorical_feature_indices = [clustering_data.columns.get_loc(c) for c in metadata['categorical_features']]\n",
    "\n",
    "clustering_data"
   ]
  },
  {
   "cell_type": "markdown",
   "id": "d10f08ae",
   "metadata": {},
   "source": [
    "## K-Prototypes"
   ]
  },
  {
   "cell_type": "code",
   "execution_count": 23,
   "id": "8f09a829",
   "metadata": {
    "id": "8f09a829"
   },
   "outputs": [],
   "source": [
    "# KPrototypes initialization\n",
    "kp = KPrototypes(n_clusters=8, init='Huang', n_init=1, verbose=1)"
   ]
  },
  {
   "cell_type": "code",
   "execution_count": 24,
   "id": "63f7ae2c",
   "metadata": {
    "colab": {
     "background_save": true,
     "base_uri": "https://localhost:8080/"
    },
    "id": "63f7ae2c",
    "outputId": "df2f664c-6302-4544-cb29-0db0ccc967a4",
    "scrolled": true
   },
   "outputs": [
    {
     "name": "stdout",
     "output_type": "stream",
     "text": [
      "Init: initializing centroids\n",
      "Init: initializing clusters\n",
      "Starting iterations...\n",
      "Run: 1, iteration: 1/100, moves: 115177, ncost: 161249.8799941643\n",
      "Run: 1, iteration: 2/100, moves: 48179, ncost: 158421.12870531113\n",
      "Run: 1, iteration: 3/100, moves: 5137, ncost: 158323.84111631537\n",
      "Run: 1, iteration: 4/100, moves: 614, ncost: 158319.21654313756\n",
      "Run: 1, iteration: 5/100, moves: 33, ncost: 158319.20596037235\n",
      "Run: 1, iteration: 6/100, moves: 0, ncost: 158319.20596037235\n"
     ]
    }
   ],
   "source": [
    "clustering_alg = 'kp'\n",
    "assignments = kp.fit_predict(clustering_data, categorical=categorical_feature_indices)\n",
    "cluster_points = kp.cluster_centroids_"
   ]
  },
  {
   "cell_type": "code",
   "execution_count": 126,
   "id": "6015c8ad",
   "metadata": {},
   "outputs": [],
   "source": [
    "with open(os.path.join(data_dir, 'model_kp.pkl'), 'wb') as file:\n",
    "    pickle.dump(kp, file)"
   ]
  },
  {
   "cell_type": "markdown",
   "id": "3f709349",
   "metadata": {},
   "source": [
    "## Gaussian Mixture Models"
   ]
  },
  {
   "cell_type": "code",
   "execution_count": 16,
   "id": "9b9018f3",
   "metadata": {},
   "outputs": [],
   "source": [
    "# Gaussian Mixture Model initialization\n",
    "gmm = GaussianMixture(n_components=8, covariance_type='full', n_init=1, max_iter=100, random_state=0)"
   ]
  },
  {
   "cell_type": "code",
   "execution_count": 17,
   "id": "0ca52719",
   "metadata": {},
   "outputs": [],
   "source": [
    "clustering_alg = 'gmm'\n",
    "assignments = gmm.fit_predict(clustering_data)\n",
    "cluster_points = gmm.means_"
   ]
  },
  {
   "cell_type": "code",
   "execution_count": null,
   "id": "f6996121",
   "metadata": {},
   "outputs": [],
   "source": [
    "with open(os.path.join(data_dir, 'model_gmm.pkl'), 'wb') as file:\n",
    "    pickle.dump(gmm, file)"
   ]
  },
  {
   "cell_type": "markdown",
   "id": "a147612e",
   "metadata": {},
   "source": [
    "## Save outputs"
   ]
  },
  {
   "cell_type": "code",
   "execution_count": 22,
   "id": "de3fce43",
   "metadata": {},
   "outputs": [
    {
     "data": {
      "text/plain": [
       "(array([0, 1, 2, 3, 4, 5, 6, 7], dtype=uint16),\n",
       " array([32489, 30762, 21598, 36629, 73356, 18656, 48430, 48369]))"
      ]
     },
     "execution_count": 22,
     "metadata": {},
     "output_type": "execute_result"
    }
   ],
   "source": [
    "np.unique(assignments, return_counts=True)"
   ]
  },
  {
   "cell_type": "code",
   "execution_count": 12,
   "id": "b7b44456",
   "metadata": {},
   "outputs": [],
   "source": [
    "# Put cluster points into a DataFrame\n",
    "cluster_points = pd.DataFrame(cluster_points, columns=features_for_clustering)"
   ]
  },
  {
   "cell_type": "code",
   "execution_count": 13,
   "id": "f4e572f5",
   "metadata": {},
   "outputs": [],
   "source": [
    "#Unnormalize numerical features\n",
    "numerical_data_mean = pd.Series(metadata['normalization_stats']['numerical_data_mean'])\n",
    "numerical_data_std = pd.Series(metadata['normalization_stats']['numerical_data_std'])\n",
    "\n",
    "cluster_points[metadata['numerical_features']] = cluster_points[metadata['numerical_features']]*numerical_data_std\n",
    "cluster_points[metadata['numerical_features']] += numerical_data_mean\n",
    "\n"
   ]
  },
  {
   "cell_type": "code",
   "execution_count": 14,
   "id": "917e798d",
   "metadata": {},
   "outputs": [],
   "source": [
    "threshold = 0.1\n",
    "\n",
    "if clustering_alg == 'gmm':\n",
    "    categorical_features = metadata['categorical_features']\n",
    "    cluster_points[categorical_features] = (cluster_points[categorical_features]>threshold).astype(int)"
   ]
  },
  {
   "cell_type": "code",
   "execution_count": 15,
   "id": "fffc094b",
   "metadata": {},
   "outputs": [
    {
     "data": {
      "text/html": [
       "<div>\n",
       "<style scoped>\n",
       "    .dataframe tbody tr th:only-of-type {\n",
       "        vertical-align: middle;\n",
       "    }\n",
       "\n",
       "    .dataframe tbody tr th {\n",
       "        vertical-align: top;\n",
       "    }\n",
       "\n",
       "    .dataframe thead th {\n",
       "        text-align: right;\n",
       "    }\n",
       "</style>\n",
       "<table border=\"1\" class=\"dataframe\">\n",
       "  <thead>\n",
       "    <tr style=\"text-align: right;\">\n",
       "      <th></th>\n",
       "      <th>a_age</th>\n",
       "      <th>resp_any</th>\n",
       "      <th>abdo_any</th>\n",
       "    </tr>\n",
       "  </thead>\n",
       "  <tbody>\n",
       "    <tr>\n",
       "      <th>0</th>\n",
       "      <td>28.825623</td>\n",
       "      <td>0.0</td>\n",
       "      <td>0.0</td>\n",
       "    </tr>\n",
       "    <tr>\n",
       "      <th>1</th>\n",
       "      <td>10.318631</td>\n",
       "      <td>1.0</td>\n",
       "      <td>1.0</td>\n",
       "    </tr>\n",
       "    <tr>\n",
       "      <th>2</th>\n",
       "      <td>10.639971</td>\n",
       "      <td>0.0</td>\n",
       "      <td>0.0</td>\n",
       "    </tr>\n",
       "    <tr>\n",
       "      <th>3</th>\n",
       "      <td>50.728310</td>\n",
       "      <td>0.0</td>\n",
       "      <td>0.0</td>\n",
       "    </tr>\n",
       "    <tr>\n",
       "      <th>4</th>\n",
       "      <td>11.167507</td>\n",
       "      <td>0.0</td>\n",
       "      <td>1.0</td>\n",
       "    </tr>\n",
       "    <tr>\n",
       "      <th>5</th>\n",
       "      <td>35.964257</td>\n",
       "      <td>1.0</td>\n",
       "      <td>0.0</td>\n",
       "    </tr>\n",
       "    <tr>\n",
       "      <th>6</th>\n",
       "      <td>8.746894</td>\n",
       "      <td>1.0</td>\n",
       "      <td>0.0</td>\n",
       "    </tr>\n",
       "    <tr>\n",
       "      <th>7</th>\n",
       "      <td>22.747083</td>\n",
       "      <td>1.0</td>\n",
       "      <td>0.0</td>\n",
       "    </tr>\n",
       "  </tbody>\n",
       "</table>\n",
       "</div>"
      ],
      "text/plain": [
       "       a_age  resp_any  abdo_any\n",
       "0  28.825623       0.0       0.0\n",
       "1  10.318631       1.0       1.0\n",
       "2  10.639971       0.0       0.0\n",
       "3  50.728310       0.0       0.0\n",
       "4  11.167507       0.0       1.0\n",
       "5  35.964257       1.0       0.0\n",
       "6   8.746894       1.0       0.0\n",
       "7  22.747083       1.0       0.0"
      ]
     },
     "execution_count": 15,
     "metadata": {},
     "output_type": "execute_result"
    }
   ],
   "source": [
    "# Drop features consisting only of 0's\n",
    "cluster_points = cluster_points.drop(cluster_points.columns[cluster_points.sum(axis='rows')==0], axis='columns')\n",
    "cluster_points"
   ]
  },
  {
   "cell_type": "code",
   "execution_count": 130,
   "id": "37af6adc",
   "metadata": {},
   "outputs": [],
   "source": [
    "cluster_points.to_csv(os.path.join(data_dir, 'cluster_points.csv'), index=False)"
   ]
  },
  {
   "cell_type": "code",
   "execution_count": 127,
   "id": "a7b95b11",
   "metadata": {},
   "outputs": [
    {
     "data": {
      "text/html": [
       "<div>\n",
       "<style scoped>\n",
       "    .dataframe tbody tr th:only-of-type {\n",
       "        vertical-align: middle;\n",
       "    }\n",
       "\n",
       "    .dataframe tbody tr th {\n",
       "        vertical-align: top;\n",
       "    }\n",
       "\n",
       "    .dataframe thead th {\n",
       "        text-align: right;\n",
       "    }\n",
       "</style>\n",
       "<table border=\"1\" class=\"dataframe\">\n",
       "  <thead>\n",
       "    <tr style=\"text-align: right;\">\n",
       "      <th></th>\n",
       "      <th>datetime</th>\n",
       "      <th>country</th>\n",
       "      <th>hf_town</th>\n",
       "      <th>latitude</th>\n",
       "      <th>longitude</th>\n",
       "      <th>assigned_cluster</th>\n",
       "    </tr>\n",
       "  </thead>\n",
       "  <tbody>\n",
       "    <tr>\n",
       "      <th>0</th>\n",
       "      <td>2017-02-15 12:11:47</td>\n",
       "      <td>RCA</td>\n",
       "      <td>Batangafo</td>\n",
       "      <td>7.303983</td>\n",
       "      <td>18.291091</td>\n",
       "      <td>6</td>\n",
       "    </tr>\n",
       "    <tr>\n",
       "      <th>1</th>\n",
       "      <td>2017-01-05 12:39:43</td>\n",
       "      <td>RCA</td>\n",
       "      <td>Batangafo</td>\n",
       "      <td>7.303983</td>\n",
       "      <td>18.291091</td>\n",
       "      <td>5</td>\n",
       "    </tr>\n",
       "    <tr>\n",
       "      <th>2</th>\n",
       "      <td>2017-08-16 10:05:44</td>\n",
       "      <td>RCA</td>\n",
       "      <td>Kambakota</td>\n",
       "      <td>7.157017</td>\n",
       "      <td>17.872181</td>\n",
       "      <td>3</td>\n",
       "    </tr>\n",
       "    <tr>\n",
       "      <th>3</th>\n",
       "      <td>2017-04-28 19:19:26</td>\n",
       "      <td>RCA</td>\n",
       "      <td>Batangafo</td>\n",
       "      <td>7.303983</td>\n",
       "      <td>18.291091</td>\n",
       "      <td>5</td>\n",
       "    </tr>\n",
       "    <tr>\n",
       "      <th>4</th>\n",
       "      <td>2016-12-02 10:22:03</td>\n",
       "      <td>RCA</td>\n",
       "      <td>Batangafo</td>\n",
       "      <td>7.303983</td>\n",
       "      <td>18.291091</td>\n",
       "      <td>0</td>\n",
       "    </tr>\n",
       "    <tr>\n",
       "      <th>...</th>\n",
       "      <td>...</td>\n",
       "      <td>...</td>\n",
       "      <td>...</td>\n",
       "      <td>...</td>\n",
       "      <td>...</td>\n",
       "      <td>...</td>\n",
       "    </tr>\n",
       "    <tr>\n",
       "      <th>310284</th>\n",
       "      <td>2020-03-12 09:55:48</td>\n",
       "      <td>RCA</td>\n",
       "      <td>Kabo</td>\n",
       "      <td>7.692080</td>\n",
       "      <td>18.624342</td>\n",
       "      <td>2</td>\n",
       "    </tr>\n",
       "    <tr>\n",
       "      <th>310285</th>\n",
       "      <td>2020-01-08 08:26:21</td>\n",
       "      <td>RCA</td>\n",
       "      <td>Kabo</td>\n",
       "      <td>7.692080</td>\n",
       "      <td>18.624342</td>\n",
       "      <td>7</td>\n",
       "    </tr>\n",
       "    <tr>\n",
       "      <th>310286</th>\n",
       "      <td>2020-04-04 10:06:07</td>\n",
       "      <td>RCA</td>\n",
       "      <td>Kabo</td>\n",
       "      <td>7.692080</td>\n",
       "      <td>18.624342</td>\n",
       "      <td>2</td>\n",
       "    </tr>\n",
       "    <tr>\n",
       "      <th>310287</th>\n",
       "      <td>2020-07-16 14:42:21</td>\n",
       "      <td>RCA</td>\n",
       "      <td>Kabo</td>\n",
       "      <td>7.692080</td>\n",
       "      <td>18.624342</td>\n",
       "      <td>5</td>\n",
       "    </tr>\n",
       "    <tr>\n",
       "      <th>310288</th>\n",
       "      <td>2020-06-30 09:18:21</td>\n",
       "      <td>RCA</td>\n",
       "      <td>Kabo</td>\n",
       "      <td>7.692080</td>\n",
       "      <td>18.624342</td>\n",
       "      <td>7</td>\n",
       "    </tr>\n",
       "  </tbody>\n",
       "</table>\n",
       "<p>310289 rows × 6 columns</p>\n",
       "</div>"
      ],
      "text/plain": [
       "                   datetime country    hf_town  latitude  longitude  \\\n",
       "0       2017-02-15 12:11:47     RCA  Batangafo  7.303983  18.291091   \n",
       "1       2017-01-05 12:39:43     RCA  Batangafo  7.303983  18.291091   \n",
       "2       2017-08-16 10:05:44     RCA  Kambakota  7.157017  17.872181   \n",
       "3       2017-04-28 19:19:26     RCA  Batangafo  7.303983  18.291091   \n",
       "4       2016-12-02 10:22:03     RCA  Batangafo  7.303983  18.291091   \n",
       "...                     ...     ...        ...       ...        ...   \n",
       "310284  2020-03-12 09:55:48     RCA       Kabo  7.692080  18.624342   \n",
       "310285  2020-01-08 08:26:21     RCA       Kabo  7.692080  18.624342   \n",
       "310286  2020-04-04 10:06:07     RCA       Kabo  7.692080  18.624342   \n",
       "310287  2020-07-16 14:42:21     RCA       Kabo  7.692080  18.624342   \n",
       "310288  2020-06-30 09:18:21     RCA       Kabo  7.692080  18.624342   \n",
       "\n",
       "        assigned_cluster  \n",
       "0                      6  \n",
       "1                      5  \n",
       "2                      3  \n",
       "3                      5  \n",
       "4                      0  \n",
       "...                  ...  \n",
       "310284                 2  \n",
       "310285                 7  \n",
       "310286                 2  \n",
       "310287                 5  \n",
       "310288                 7  \n",
       "\n",
       "[310289 rows x 6 columns]"
      ]
     },
     "execution_count": 127,
     "metadata": {},
     "output_type": "execute_result"
    }
   ],
   "source": [
    "# Create DataFrame containing spatiotemporal clustering information\n",
    "n_clusters = 10\n",
    "\n",
    "st_clustering_features = [\n",
    "    'datetime',\n",
    "    'country', \n",
    "    'hf_town', \n",
    "    'latitude', \n",
    "    'longitude'\n",
    "]\n",
    "\n",
    "\n",
    "spatiotemporal_clustering = df[st_clustering_features].copy()\n",
    "spatiotemporal_clustering['assigned_cluster'] = assignments\n",
    "\n",
    "spatiotemporal_clustering"
   ]
  },
  {
   "cell_type": "code",
   "execution_count": 128,
   "id": "8c172552",
   "metadata": {},
   "outputs": [
    {
     "name": "stdout",
     "output_type": "stream",
     "text": [
      "<class 'pandas.core.frame.DataFrame'>\n",
      "RangeIndex: 310289 entries, 0 to 310288\n",
      "Data columns (total 6 columns):\n",
      " #   Column            Non-Null Count   Dtype  \n",
      "---  ------            --------------   -----  \n",
      " 0   datetime          310289 non-null  object \n",
      " 1   country           310289 non-null  object \n",
      " 2   hf_town           310289 non-null  object \n",
      " 3   latitude          310289 non-null  float64\n",
      " 4   longitude         310289 non-null  float64\n",
      " 5   assigned_cluster  310289 non-null  uint16 \n",
      "dtypes: float64(2), object(3), uint16(1)\n",
      "memory usage: 12.4+ MB\n"
     ]
    }
   ],
   "source": [
    "spatiotemporal_clustering.info()"
   ]
  },
  {
   "cell_type": "code",
   "execution_count": 129,
   "id": "b9114d70",
   "metadata": {},
   "outputs": [],
   "source": [
    "spatiotemporal_clustering.to_csv(os.path.join(data_dir, 'clustered_data.csv'), index=False)"
   ]
  },
  {
   "cell_type": "code",
   "execution_count": null,
   "id": "395ea706",
   "metadata": {},
   "outputs": [],
   "source": []
  },
  {
   "cell_type": "markdown",
   "id": "c77d7678",
   "metadata": {},
   "source": [
    "## Optimal Number of Clusters"
   ]
  },
  {
   "cell_type": "code",
   "execution_count": 37,
   "id": "8bd681e2",
   "metadata": {},
   "outputs": [],
   "source": [
    "from tqdm.notebook import tqdm"
   ]
  },
  {
   "cell_type": "markdown",
   "id": "87fcb163",
   "metadata": {},
   "source": [
    "Plot loss of K-Prototypes as a function of number of clusters"
   ]
  },
  {
   "cell_type": "code",
   "execution_count": 71,
   "id": "56140665",
   "metadata": {},
   "outputs": [
    {
     "data": {
      "application/vnd.jupyter.widget-view+json": {
       "model_id": "0c0aeb74423e4f5d887a026d885c1d4c",
       "version_major": 2,
       "version_minor": 0
      },
      "text/plain": [
       "  0%|          | 0/10 [00:00<?, ?it/s]"
      ]
     },
     "metadata": {},
     "output_type": "display_data"
    },
    {
     "data": {
      "application/vnd.jupyter.widget-view+json": {
       "model_id": "",
       "version_major": 2,
       "version_minor": 0
      },
      "text/plain": [
       "  0%|          | 0/3 [00:00<?, ?it/s]"
      ]
     },
     "metadata": {},
     "output_type": "display_data"
    },
    {
     "name": "stdout",
     "output_type": "stream",
     "text": [
      "Init: initializing centroids\n",
      "Init: initializing clusters\n",
      "Starting iterations...\n",
      "Run: 1, iteration: 1/100, moves: 36124, ncost: 303461.1367664892\n",
      "Run: 1, iteration: 2/100, moves: 25054, ncost: 297733.82098015427\n",
      "Run: 1, iteration: 3/100, moves: 1880, ncost: 297699.1795463832\n",
      "Run: 1, iteration: 4/100, moves: 274, ncost: 297698.44021933246\n",
      "Run: 1, iteration: 5/100, moves: 0, ncost: 297698.44021933246\n",
      "Init: initializing centroids\n",
      "Init: initializing clusters\n",
      "Starting iterations...\n",
      "Run: 1, iteration: 1/100, moves: 44390, ncost: 303895.1250508046\n",
      "Run: 1, iteration: 2/100, moves: 25981, ncost: 297738.67468376295\n",
      "Run: 1, iteration: 3/100, moves: 2001, ncost: 297699.4171930756\n",
      "Run: 1, iteration: 4/100, moves: 315, ncost: 297698.44021933334\n",
      "Run: 1, iteration: 5/100, moves: 0, ncost: 297698.44021933334\n",
      "Init: initializing centroids\n",
      "Init: initializing clusters\n",
      "Starting iterations...\n",
      "Run: 1, iteration: 1/100, moves: 80786, ncost: 305089.0634661\n",
      "Run: 1, iteration: 2/100, moves: 28160, ncost: 297760.6174529707\n",
      "Run: 1, iteration: 3/100, moves: 2456, ncost: 297700.45957177476\n",
      "Run: 1, iteration: 4/100, moves: 453, ncost: 297698.44021931756\n",
      "Run: 1, iteration: 5/100, moves: 0, ncost: 297698.44021931756\n"
     ]
    },
    {
     "data": {
      "application/vnd.jupyter.widget-view+json": {
       "model_id": "",
       "version_major": 2,
       "version_minor": 0
      },
      "text/plain": [
       "  0%|          | 0/3 [00:00<?, ?it/s]"
      ]
     },
     "metadata": {},
     "output_type": "display_data"
    },
    {
     "name": "stdout",
     "output_type": "stream",
     "text": [
      "Init: initializing centroids\n",
      "Init: initializing clusters\n",
      "Starting iterations...\n",
      "Run: 1, iteration: 1/100, moves: 74697, ncost: 249341.7216637415\n",
      "Run: 1, iteration: 2/100, moves: 43045, ncost: 237338.67871131882\n",
      "Run: 1, iteration: 3/100, moves: 6050, ncost: 237025.27390824415\n",
      "Run: 1, iteration: 4/100, moves: 299, ncost: 237023.6270740245\n",
      "Run: 1, iteration: 5/100, moves: 0, ncost: 237023.6270740245\n",
      "Init: initializing centroids\n",
      "Init: initializing clusters\n",
      "Starting iterations...\n",
      "Run: 1, iteration: 1/100, moves: 58331, ncost: 257960.86337077743\n",
      "Run: 1, iteration: 2/100, moves: 15361, ncost: 255836.4456764506\n",
      "Run: 1, iteration: 3/100, moves: 365, ncost: 255834.3191755281\n",
      "Run: 1, iteration: 4/100, moves: 0, ncost: 255834.3191755281\n",
      "Init: initializing centroids\n",
      "Init: initializing clusters\n",
      "Starting iterations...\n",
      "Run: 1, iteration: 1/100, moves: 68588, ncost: 242197.79513372754\n",
      "Run: 1, iteration: 2/100, moves: 3743, ncost: 242129.23752862433\n",
      "Run: 1, iteration: 3/100, moves: 0, ncost: 242129.23752862433\n"
     ]
    },
    {
     "data": {
      "application/vnd.jupyter.widget-view+json": {
       "model_id": "",
       "version_major": 2,
       "version_minor": 0
      },
      "text/plain": [
       "  0%|          | 0/3 [00:00<?, ?it/s]"
      ]
     },
     "metadata": {},
     "output_type": "display_data"
    },
    {
     "name": "stdout",
     "output_type": "stream",
     "text": [
      "Init: initializing centroids\n",
      "Init: initializing clusters\n",
      "Starting iterations...\n",
      "Run: 1, iteration: 1/100, moves: 46523, ncost: 225170.77624913142\n",
      "Run: 1, iteration: 2/100, moves: 7901, ncost: 224890.27789665747\n",
      "Run: 1, iteration: 3/100, moves: 1247, ncost: 224867.0803500695\n",
      "Run: 1, iteration: 4/100, moves: 0, ncost: 224867.0803500695\n",
      "Init: initializing centroids\n",
      "Init: initializing clusters\n",
      "Starting iterations...\n",
      "Run: 1, iteration: 1/100, moves: 72068, ncost: 201526.4709149671\n",
      "Run: 1, iteration: 2/100, moves: 1034, ncost: 201521.07450268607\n",
      "Run: 1, iteration: 3/100, moves: 160, ncost: 201520.74784677944\n",
      "Run: 1, iteration: 4/100, moves: 0, ncost: 201520.74784677944\n",
      "Init: initializing centroids\n",
      "Init: initializing clusters\n",
      "Starting iterations...\n",
      "Run: 1, iteration: 1/100, moves: 85665, ncost: 229373.8515639243\n",
      "Run: 1, iteration: 2/100, moves: 50352, ncost: 216374.55914015794\n",
      "Run: 1, iteration: 3/100, moves: 18387, ncost: 215599.0941961756\n",
      "Run: 1, iteration: 4/100, moves: 805, ncost: 215594.409683327\n",
      "Run: 1, iteration: 5/100, moves: 0, ncost: 215594.409683327\n"
     ]
    },
    {
     "data": {
      "application/vnd.jupyter.widget-view+json": {
       "model_id": "",
       "version_major": 2,
       "version_minor": 0
      },
      "text/plain": [
       "  0%|          | 0/3 [00:00<?, ?it/s]"
      ]
     },
     "metadata": {},
     "output_type": "display_data"
    },
    {
     "name": "stdout",
     "output_type": "stream",
     "text": [
      "Init: initializing centroids\n",
      "Init: initializing clusters\n",
      "Starting iterations...\n",
      "Run: 1, iteration: 1/100, moves: 111170, ncost: 216771.0816381648\n",
      "Run: 1, iteration: 2/100, moves: 26244, ncost: 212672.90984166315\n",
      "Run: 1, iteration: 3/100, moves: 4643, ncost: 212647.6789566268\n",
      "Run: 1, iteration: 4/100, moves: 46, ncost: 212647.5597525215\n",
      "Run: 1, iteration: 5/100, moves: 0, ncost: 212647.5597525215\n",
      "Init: initializing centroids\n",
      "Init: initializing clusters\n",
      "Starting iterations...\n",
      "Run: 1, iteration: 1/100, moves: 75437, ncost: 221169.17088198895\n",
      "Run: 1, iteration: 2/100, moves: 25717, ncost: 220826.79380739402\n",
      "Run: 1, iteration: 3/100, moves: 1205, ncost: 220825.1175684373\n",
      "Run: 1, iteration: 4/100, moves: 27, ncost: 220825.053685406\n",
      "Run: 1, iteration: 5/100, moves: 0, ncost: 220825.053685406\n",
      "Init: initializing centroids\n",
      "Init: initializing clusters\n",
      "Starting iterations...\n",
      "Run: 1, iteration: 1/100, moves: 46182, ncost: 203889.9222111401\n",
      "Run: 1, iteration: 2/100, moves: 45767, ncost: 196542.25577791102\n",
      "Run: 1, iteration: 3/100, moves: 20896, ncost: 194906.817147252\n",
      "Run: 1, iteration: 4/100, moves: 15133, ncost: 193308.65033824608\n",
      "Run: 1, iteration: 5/100, moves: 6276, ncost: 193040.01081325885\n",
      "Run: 1, iteration: 6/100, moves: 209, ncost: 193039.58002506674\n",
      "Run: 1, iteration: 7/100, moves: 0, ncost: 193039.58002506674\n"
     ]
    },
    {
     "data": {
      "application/vnd.jupyter.widget-view+json": {
       "model_id": "",
       "version_major": 2,
       "version_minor": 0
      },
      "text/plain": [
       "  0%|          | 0/3 [00:00<?, ?it/s]"
      ]
     },
     "metadata": {},
     "output_type": "display_data"
    },
    {
     "name": "stdout",
     "output_type": "stream",
     "text": [
      "Init: initializing centroids\n",
      "Init: initializing clusters\n",
      "Starting iterations...\n",
      "Run: 1, iteration: 1/100, moves: 60798, ncost: 186324.08390817794\n",
      "Run: 1, iteration: 2/100, moves: 42388, ncost: 181137.17908681624\n",
      "Run: 1, iteration: 3/100, moves: 39695, ncost: 171046.32017598164\n",
      "Run: 1, iteration: 4/100, moves: 33198, ncost: 169537.69792163218\n",
      "Run: 1, iteration: 5/100, moves: 2457, ncost: 169530.20565714978\n",
      "Run: 1, iteration: 6/100, moves: 0, ncost: 169530.20565714978\n",
      "Init: initializing centroids\n",
      "Init: initializing clusters\n",
      "Starting iterations...\n",
      "Run: 1, iteration: 1/100, moves: 86673, ncost: 187656.33146771067\n",
      "Run: 1, iteration: 2/100, moves: 14351, ncost: 187224.83070481202\n",
      "Run: 1, iteration: 3/100, moves: 3086, ncost: 187025.79826570963\n",
      "Run: 1, iteration: 4/100, moves: 473, ncost: 187022.25087679952\n",
      "Run: 1, iteration: 5/100, moves: 10, ncost: 187022.24593645596\n",
      "Run: 1, iteration: 6/100, moves: 0, ncost: 187022.24593645596\n",
      "Init: initializing centroids\n",
      "Init: initializing clusters\n",
      "Starting iterations...\n",
      "Run: 1, iteration: 1/100, moves: 88105, ncost: 196316.37438380872\n",
      "Run: 1, iteration: 2/100, moves: 23868, ncost: 193865.02092788432\n",
      "Run: 1, iteration: 3/100, moves: 41383, ncost: 187925.0151267092\n",
      "Run: 1, iteration: 4/100, moves: 44648, ncost: 182171.10332826825\n",
      "Run: 1, iteration: 5/100, moves: 14193, ncost: 181382.39594238217\n",
      "Run: 1, iteration: 6/100, moves: 4884, ncost: 181087.47524965444\n",
      "Run: 1, iteration: 7/100, moves: 3195, ncost: 181013.04338725383\n",
      "Run: 1, iteration: 8/100, moves: 899, ncost: 181009.91145960096\n",
      "Run: 1, iteration: 9/100, moves: 0, ncost: 181009.91145960096\n"
     ]
    },
    {
     "data": {
      "application/vnd.jupyter.widget-view+json": {
       "model_id": "",
       "version_major": 2,
       "version_minor": 0
      },
      "text/plain": [
       "  0%|          | 0/3 [00:00<?, ?it/s]"
      ]
     },
     "metadata": {},
     "output_type": "display_data"
    },
    {
     "name": "stdout",
     "output_type": "stream",
     "text": [
      "Init: initializing centroids\n",
      "Init: initializing clusters\n",
      "Starting iterations...\n",
      "Run: 1, iteration: 1/100, moves: 84976, ncost: 170417.83139971\n",
      "Run: 1, iteration: 2/100, moves: 45350, ncost: 163518.73492229317\n",
      "Run: 1, iteration: 3/100, moves: 20012, ncost: 162512.7021331587\n",
      "Run: 1, iteration: 4/100, moves: 1931, ncost: 162477.43351691656\n",
      "Run: 1, iteration: 5/100, moves: 2, ncost: 162477.4334425048\n",
      "Run: 1, iteration: 6/100, moves: 0, ncost: 162477.4334425048\n",
      "Init: initializing centroids\n",
      "Init: initializing clusters\n",
      "Starting iterations...\n",
      "Run: 1, iteration: 1/100, moves: 90377, ncost: 166035.65687180532\n",
      "Run: 1, iteration: 2/100, moves: 11705, ncost: 165724.95140634\n",
      "Run: 1, iteration: 3/100, moves: 522, ncost: 165721.78564662364\n",
      "Run: 1, iteration: 4/100, moves: 0, ncost: 165721.78564662364\n",
      "Init: initializing centroids\n",
      "Init: initializing clusters\n",
      "Starting iterations...\n",
      "Run: 1, iteration: 1/100, moves: 52596, ncost: 181403.72931570248\n",
      "Run: 1, iteration: 2/100, moves: 41111, ncost: 166008.44052330116\n",
      "Run: 1, iteration: 3/100, moves: 33699, ncost: 161990.8728533474\n",
      "Run: 1, iteration: 4/100, moves: 24210, ncost: 160388.99734173462\n",
      "Run: 1, iteration: 5/100, moves: 3984, ncost: 160379.79632704193\n",
      "Run: 1, iteration: 6/100, moves: 57, ncost: 160379.6276832915\n",
      "Run: 1, iteration: 7/100, moves: 0, ncost: 160379.6276832915\n"
     ]
    },
    {
     "data": {
      "application/vnd.jupyter.widget-view+json": {
       "model_id": "",
       "version_major": 2,
       "version_minor": 0
      },
      "text/plain": [
       "  0%|          | 0/3 [00:00<?, ?it/s]"
      ]
     },
     "metadata": {},
     "output_type": "display_data"
    },
    {
     "name": "stdout",
     "output_type": "stream",
     "text": [
      "Init: initializing centroids\n",
      "Init: initializing clusters\n",
      "Starting iterations...\n",
      "Run: 1, iteration: 1/100, moves: 106187, ncost: 181806.1637685927\n",
      "Run: 1, iteration: 2/100, moves: 31441, ncost: 179955.3111725767\n",
      "Run: 1, iteration: 3/100, moves: 22721, ncost: 175782.080319052\n",
      "Run: 1, iteration: 4/100, moves: 10499, ncost: 175062.6774063146\n",
      "Run: 1, iteration: 5/100, moves: 559, ncost: 175059.70690001533\n",
      "Run: 1, iteration: 6/100, moves: 0, ncost: 175059.70690001533\n",
      "Init: initializing centroids\n",
      "Init: initializing clusters\n",
      "Starting iterations...\n",
      "Run: 1, iteration: 1/100, moves: 121825, ncost: 167234.5023234174\n",
      "Run: 1, iteration: 2/100, moves: 40110, ncost: 152752.17490000842\n",
      "Run: 1, iteration: 3/100, moves: 6502, ncost: 152612.77448515384\n",
      "Run: 1, iteration: 4/100, moves: 0, ncost: 152612.77448515384\n",
      "Init: initializing centroids\n",
      "Init: initializing clusters\n",
      "Starting iterations...\n",
      "Run: 1, iteration: 1/100, moves: 88159, ncost: 154968.87116271353\n",
      "Run: 1, iteration: 2/100, moves: 15010, ncost: 153530.68160311496\n",
      "Run: 1, iteration: 3/100, moves: 28073, ncost: 150103.05622041176\n",
      "Run: 1, iteration: 4/100, moves: 5545, ncost: 149964.28777199023\n",
      "Run: 1, iteration: 5/100, moves: 306, ncost: 149963.76107026436\n",
      "Run: 1, iteration: 6/100, moves: 0, ncost: 149963.76107026436\n"
     ]
    },
    {
     "data": {
      "application/vnd.jupyter.widget-view+json": {
       "model_id": "",
       "version_major": 2,
       "version_minor": 0
      },
      "text/plain": [
       "  0%|          | 0/3 [00:00<?, ?it/s]"
      ]
     },
     "metadata": {},
     "output_type": "display_data"
    },
    {
     "name": "stdout",
     "output_type": "stream",
     "text": [
      "Init: initializing centroids\n",
      "Init: initializing clusters\n",
      "Starting iterations...\n",
      "Run: 1, iteration: 1/100, moves: 76531, ncost: 157229.8688376402\n",
      "Run: 1, iteration: 2/100, moves: 39319, ncost: 156716.34765516993\n",
      "Run: 1, iteration: 3/100, moves: 535, ncost: 156714.11210881296\n",
      "Run: 1, iteration: 4/100, moves: 0, ncost: 156714.11210881296\n",
      "Init: initializing centroids\n",
      "Init: initializing clusters\n",
      "Starting iterations...\n",
      "Run: 1, iteration: 1/100, moves: 69696, ncost: 152948.86810744187\n",
      "Run: 1, iteration: 2/100, moves: 30434, ncost: 149846.67316370708\n",
      "Run: 1, iteration: 3/100, moves: 18152, ncost: 149241.73660932275\n",
      "Run: 1, iteration: 4/100, moves: 1756, ncost: 149229.55262522624\n",
      "Run: 1, iteration: 5/100, moves: 403, ncost: 149229.36083364874\n",
      "Run: 1, iteration: 6/100, moves: 0, ncost: 149229.36083364874\n",
      "Init: initializing centroids\n",
      "Init: initializing clusters\n",
      "Starting iterations...\n",
      "Run: 1, iteration: 1/100, moves: 79846, ncost: 150337.64192743698\n",
      "Run: 1, iteration: 2/100, moves: 12689, ncost: 149837.94732906166\n",
      "Run: 1, iteration: 3/100, moves: 557, ncost: 149836.8094701569\n",
      "Run: 1, iteration: 4/100, moves: 0, ncost: 149836.8094701569\n"
     ]
    },
    {
     "data": {
      "application/vnd.jupyter.widget-view+json": {
       "model_id": "",
       "version_major": 2,
       "version_minor": 0
      },
      "text/plain": [
       "  0%|          | 0/3 [00:00<?, ?it/s]"
      ]
     },
     "metadata": {},
     "output_type": "display_data"
    },
    {
     "name": "stdout",
     "output_type": "stream",
     "text": [
      "Init: initializing centroids\n",
      "Init: initializing clusters\n",
      "Starting iterations...\n",
      "Run: 1, iteration: 1/100, moves: 116053, ncost: 155448.83635824127\n",
      "Run: 1, iteration: 2/100, moves: 29782, ncost: 146975.93766786036\n",
      "Run: 1, iteration: 3/100, moves: 24350, ncost: 146095.50359337564\n",
      "Run: 1, iteration: 4/100, moves: 7800, ncost: 145924.1565573716\n",
      "Run: 1, iteration: 5/100, moves: 3205, ncost: 145904.32396715018\n",
      "Run: 1, iteration: 6/100, moves: 243, ncost: 145903.06717840486\n",
      "Run: 1, iteration: 7/100, moves: 0, ncost: 145903.06717840486\n",
      "Init: initializing centroids\n",
      "Init: initializing clusters\n",
      "Starting iterations...\n",
      "Run: 1, iteration: 1/100, moves: 118985, ncost: 140689.28441051964\n",
      "Run: 1, iteration: 2/100, moves: 37833, ncost: 136704.70119842343\n",
      "Run: 1, iteration: 3/100, moves: 19073, ncost: 134973.20385337246\n",
      "Run: 1, iteration: 4/100, moves: 8985, ncost: 134380.48883927785\n",
      "Run: 1, iteration: 5/100, moves: 1449, ncost: 134370.8305629591\n",
      "Run: 1, iteration: 6/100, moves: 15, ncost: 134370.82411671852\n",
      "Run: 1, iteration: 7/100, moves: 0, ncost: 134370.82411671852\n",
      "Init: initializing centroids\n",
      "Init: initializing clusters\n",
      "Starting iterations...\n",
      "Run: 1, iteration: 1/100, moves: 118702, ncost: 145778.56360536473\n",
      "Run: 1, iteration: 2/100, moves: 52845, ncost: 134185.38227767716\n",
      "Run: 1, iteration: 3/100, moves: 13246, ncost: 132935.7593059333\n",
      "Run: 1, iteration: 4/100, moves: 2492, ncost: 132816.0465541568\n",
      "Run: 1, iteration: 5/100, moves: 0, ncost: 132816.0465541568\n"
     ]
    },
    {
     "data": {
      "application/vnd.jupyter.widget-view+json": {
       "model_id": "",
       "version_major": 2,
       "version_minor": 0
      },
      "text/plain": [
       "  0%|          | 0/3 [00:00<?, ?it/s]"
      ]
     },
     "metadata": {},
     "output_type": "display_data"
    },
    {
     "name": "stdout",
     "output_type": "stream",
     "text": [
      "Init: initializing centroids\n",
      "Init: initializing clusters\n",
      "Starting iterations...\n",
      "Run: 1, iteration: 1/100, moves: 126228, ncost: 140404.36700593896\n",
      "Run: 1, iteration: 2/100, moves: 23906, ncost: 135941.10595322566\n",
      "Run: 1, iteration: 3/100, moves: 18444, ncost: 133376.3685030522\n",
      "Run: 1, iteration: 4/100, moves: 16308, ncost: 131963.90691169616\n",
      "Run: 1, iteration: 5/100, moves: 8976, ncost: 131811.53064223944\n",
      "Run: 1, iteration: 6/100, moves: 7846, ncost: 131652.16695465732\n",
      "Run: 1, iteration: 7/100, moves: 6126, ncost: 131617.09153642764\n",
      "Run: 1, iteration: 8/100, moves: 55, ncost: 131617.07202002237\n",
      "Run: 1, iteration: 9/100, moves: 0, ncost: 131617.07202002237\n",
      "Init: initializing centroids\n",
      "Init: initializing clusters\n",
      "Starting iterations...\n",
      "Run: 1, iteration: 1/100, moves: 89071, ncost: 155549.50185389954\n",
      "Run: 1, iteration: 2/100, moves: 25323, ncost: 142111.27798724207\n",
      "Run: 1, iteration: 3/100, moves: 40974, ncost: 138716.56339444974\n",
      "Run: 1, iteration: 4/100, moves: 9181, ncost: 138615.65397133995\n",
      "Run: 1, iteration: 5/100, moves: 280, ncost: 138615.13420246608\n",
      "Run: 1, iteration: 6/100, moves: 0, ncost: 138615.13420246608\n",
      "Init: initializing centroids\n",
      "Init: initializing clusters\n",
      "Starting iterations...\n",
      "Run: 1, iteration: 1/100, moves: 93984, ncost: 154446.7828800392\n",
      "Run: 1, iteration: 2/100, moves: 46401, ncost: 151765.00214156735\n",
      "Run: 1, iteration: 3/100, moves: 7720, ncost: 151514.8801776742\n",
      "Run: 1, iteration: 4/100, moves: 1028, ncost: 151503.00123494447\n",
      "Run: 1, iteration: 5/100, moves: 0, ncost: 151503.00123494447\n"
     ]
    }
   ],
   "source": [
    "kp_loss = []\n",
    "\n",
    "n_iters = 10\n",
    "for n_clusters in tqdm(range(2,12)):\n",
    "    \n",
    "    loss = 0\n",
    "    for _ in tqdm(range(n_iters), leave=False):\n",
    "        kp = KPrototypes(n_clusters=n_clusters, init='Huang', n_init=1, verbose=1)\n",
    "        kp.fit(clustering_data, categorical=categorical_feature_indices)\n",
    "        loss += kp.cost_\n",
    "        \n",
    "    kp_loss.append(loss/n_iters)"
   ]
  },
  {
   "cell_type": "code",
   "execution_count": 72,
   "id": "f77e0033",
   "metadata": {},
   "outputs": [
    {
     "data": {
      "image/png": "[encoded data removed]",
      "text/plain": [
       "<Figure size 1080x720 with 1 Axes>"
      ]
     },
     "metadata": {},
     "output_type": "display_data"
    }
   ],
   "source": [
    "plt.figure(figsize=(15,10))\n",
    "\n",
    "sns.lineplot(x=range(2,12), y=kp_loss, label='Loss')\n",
    "\n",
    "plt.title(r'K-Prototypes Loss', fontsize=24, fontweight='bold')\n",
    "plt.xlabel(r'Number of Clusters', fontsize=16)\n",
    "plt.ylabel(f'Loss', fontsize=16)\n",
    "plt.grid()\n",
    "#plt.xlim([2,12])\n",
    "\n",
    "\n",
    "plt.grid()\n",
    "#plt.savefig('.',bbox_inches='tight', pad_inches=0)"
   ]
  },
  {
   "cell_type": "code",
   "execution_count": null,
   "id": "91b76e43",
   "metadata": {},
   "outputs": [],
   "source": []
  },
  {
   "cell_type": "markdown",
   "id": "f571b6ef",
   "metadata": {},
   "source": [
    "Plot Bayesian and Akaike information criterions of GMM as a function of number of clusters"
   ]
  },
  {
   "cell_type": "code",
   "execution_count": 65,
   "id": "6915e08d",
   "metadata": {},
   "outputs": [
    {
     "data": {
      "application/vnd.jupyter.widget-view+json": {
       "model_id": "5afccd8c69e543ad960ff243abd5ef03",
       "version_major": 2,
       "version_minor": 0
      },
      "text/plain": [
       "  0%|          | 0/10 [00:00<?, ?it/s]"
      ]
     },
     "metadata": {},
     "output_type": "display_data"
    },
    {
     "data": {
      "application/vnd.jupyter.widget-view+json": {
       "model_id": "",
       "version_major": 2,
       "version_minor": 0
      },
      "text/plain": [
       "  0%|          | 0/10 [00:00<?, ?it/s]"
      ]
     },
     "metadata": {},
     "output_type": "display_data"
    },
    {
     "data": {
      "application/vnd.jupyter.widget-view+json": {
       "model_id": "",
       "version_major": 2,
       "version_minor": 0
      },
      "text/plain": [
       "  0%|          | 0/10 [00:00<?, ?it/s]"
      ]
     },
     "metadata": {},
     "output_type": "display_data"
    },
    {
     "data": {
      "application/vnd.jupyter.widget-view+json": {
       "model_id": "",
       "version_major": 2,
       "version_minor": 0
      },
      "text/plain": [
       "  0%|          | 0/10 [00:00<?, ?it/s]"
      ]
     },
     "metadata": {},
     "output_type": "display_data"
    },
    {
     "data": {
      "application/vnd.jupyter.widget-view+json": {
       "model_id": "",
       "version_major": 2,
       "version_minor": 0
      },
      "text/plain": [
       "  0%|          | 0/10 [00:00<?, ?it/s]"
      ]
     },
     "metadata": {},
     "output_type": "display_data"
    },
    {
     "data": {
      "application/vnd.jupyter.widget-view+json": {
       "model_id": "",
       "version_major": 2,
       "version_minor": 0
      },
      "text/plain": [
       "  0%|          | 0/10 [00:00<?, ?it/s]"
      ]
     },
     "metadata": {},
     "output_type": "display_data"
    },
    {
     "data": {
      "application/vnd.jupyter.widget-view+json": {
       "model_id": "",
       "version_major": 2,
       "version_minor": 0
      },
      "text/plain": [
       "  0%|          | 0/10 [00:00<?, ?it/s]"
      ]
     },
     "metadata": {},
     "output_type": "display_data"
    },
    {
     "data": {
      "application/vnd.jupyter.widget-view+json": {
       "model_id": "",
       "version_major": 2,
       "version_minor": 0
      },
      "text/plain": [
       "  0%|          | 0/10 [00:00<?, ?it/s]"
      ]
     },
     "metadata": {},
     "output_type": "display_data"
    },
    {
     "data": {
      "application/vnd.jupyter.widget-view+json": {
       "model_id": "",
       "version_major": 2,
       "version_minor": 0
      },
      "text/plain": [
       "  0%|          | 0/10 [00:00<?, ?it/s]"
      ]
     },
     "metadata": {},
     "output_type": "display_data"
    },
    {
     "data": {
      "application/vnd.jupyter.widget-view+json": {
       "model_id": "",
       "version_major": 2,
       "version_minor": 0
      },
      "text/plain": [
       "  0%|          | 0/10 [00:00<?, ?it/s]"
      ]
     },
     "metadata": {},
     "output_type": "display_data"
    },
    {
     "data": {
      "application/vnd.jupyter.widget-view+json": {
       "model_id": "",
       "version_major": 2,
       "version_minor": 0
      },
      "text/plain": [
       "  0%|          | 0/10 [00:00<?, ?it/s]"
      ]
     },
     "metadata": {},
     "output_type": "display_data"
    }
   ],
   "source": [
    "gmm_aic = []\n",
    "gmm_bic = []\n",
    "\n",
    "n_iters = 10\n",
    "for n_clusters in tqdm(range(2, 12)):\n",
    "    \n",
    "    aic = 0\n",
    "    bic = 0\n",
    "    for _ in tqdm(range(n_iters), leave=False):\n",
    "        gmm = GaussianMixture(n_components=n_clusters, covariance_type='full', n_init=1, max_iter=100)\n",
    "        gmm.fit(clustering_data)\n",
    "        aic += gmm.aic(clustering_data)\n",
    "        bic += gmm.bic(clustering_data)\n",
    "        \n",
    "    gmm_aic.append(aic/n_iters)\n",
    "    gmm_bic.append(bic/n_iters)"
   ]
  },
  {
   "cell_type": "code",
   "execution_count": 73,
   "id": "d2a9d6a4",
   "metadata": {},
   "outputs": [],
   "source": [
    "np.savez('cluster_loss.npz', gmm_aic=gmm_aic, gmm_bic=gmm_bic, kp_loss=kp_loss)"
   ]
  },
  {
   "cell_type": "code",
   "execution_count": 14,
   "id": "80e37005",
   "metadata": {},
   "outputs": [],
   "source": [
    "sns.set_theme(style=\"darkgrid\")"
   ]
  },
  {
   "cell_type": "code",
   "execution_count": 67,
   "id": "6355914b",
   "metadata": {},
   "outputs": [
    {
     "data": {
      "image/png": "[encoded data removed]",
      "text/plain": [
       "<Figure size 1080x720 with 1 Axes>"
      ]
     },
     "metadata": {},
     "output_type": "display_data"
    }
   ],
   "source": [
    "plt.figure(figsize=(15,10))\n",
    "\n",
    "#sns.lineplot(x=range(2,12), y=gmm_aic, label='AIC')\n",
    "sns.lineplot(x=range(2,12), y=gmm_bic, label='BIC')\n",
    "\n",
    "#plt.title(r'Bayesian and Akaike Information Criterions', fontsize=24, fontweight='bold')\n",
    "plt.title(r'Bayesian Information Criterion for GMM', fontsize=24, fontweight='bold')\n",
    "plt.xlabel(r'Number of Clusters', fontsize=16)\n",
    "plt.ylabel(f'Information Criterion', fontsize=16)\n",
    "plt.grid()\n",
    "plt.xticks(range(2,12))\n",
    "#plt.xlim([0,12])\n",
    "\n",
    "plt.grid()\n",
    "#plt.savefig('.',bbox_inches='tight', pad_inches=0)"
   ]
  },
  {
   "cell_type": "code",
   "execution_count": null,
   "id": "cbb43b53",
   "metadata": {},
   "outputs": [],
   "source": []
  },
  {
   "cell_type": "code",
   "execution_count": 9,
   "id": "25086c78",
   "metadata": {},
   "outputs": [],
   "source": [
    "data = np.load('cluster_loss.npz')"
   ]
  },
  {
   "cell_type": "code",
   "execution_count": 10,
   "id": "6f6921b4",
   "metadata": {},
   "outputs": [],
   "source": [
    "loss, aic, bic = data['kp_loss'], data['gmm_aic'], data['gmm_bic']"
   ]
  },
  {
   "cell_type": "code",
   "execution_count": 15,
   "id": "e9ea95fa",
   "metadata": {},
   "outputs": [
    {
     "data": {
      "image/png": "[encoded data removed]",
      "text/plain": [
       "<Figure size 1080x288 with 2 Axes>"
      ]
     },
     "metadata": {},
     "output_type": "display_data"
    }
   ],
   "source": [
    "plt.figure(figsize=(15,4))\n",
    "\n",
    "plt.subplot(121)\n",
    "sns.lineplot(x=range(2,12), y=loss, label='Loss')\n",
    "plt.title(r'K-Prototypes Loss', fontsize=20, fontweight='bold')\n",
    "plt.xlabel(r'Number of Clusters', fontsize=12)\n",
    "plt.ylabel(f'Loss', fontsize=12)\n",
    "plt.grid()\n",
    "plt.xticks(range(2,12))\n",
    "plt.xlim([2,11])\n",
    "plt.ylim([min(loss),max(loss)])\n",
    "plt.grid()\n",
    "\n",
    "plt.subplot(122)\n",
    "#sns.lineplot(x=range(2,12), y=gmm_aic, label='AIC')\n",
    "sns.lineplot(x=range(2,12), y=bic, label='BIC')\n",
    "#plt.title(r'Bayesian and Akaike Information Criterions', fontsize=24, fontweight='bold')\n",
    "plt.title(r'BIC for GMM', fontsize=20, fontweight='bold')\n",
    "plt.xlabel(r'Number of Clusters', fontsize=12)\n",
    "plt.ylabel(f'Information Criterion', fontsize=12)\n",
    "plt.grid()\n",
    "plt.xticks(range(2,12))\n",
    "plt.xlim([2,11])\n",
    "plt.ylim([min(bic),max(bic)])\n",
    "plt.grid()\n",
    "\n",
    "plt.savefig('cluster_loss.pdf',bbox_inches='tight', pad_inches=0)"
   ]
  },
  {
   "cell_type": "code",
   "execution_count": null,
   "id": "444d6b78",
   "metadata": {},
   "outputs": [],
   "source": []
  }
 ],
 "metadata": {
  "colab": {
   "name": "Clustering.ipynb",
   "provenance": []
  },
  "kernelspec": {
   "display_name": "Python 3 (ipykernel)",
   "language": "python",
   "name": "python3"
  },
  "language_info": {
   "codemirror_mode": {
    "name": "ipython",
    "version": 3
   },
   "file_extension": ".py",
   "mimetype": "text/x-python",
   "name": "python",
   "nbconvert_exporter": "python",
   "pygments_lexer": "ipython3",
   "version": "3.8.12"
  }
 },
 "nbformat": 4,
 "nbformat_minor": 5
}
